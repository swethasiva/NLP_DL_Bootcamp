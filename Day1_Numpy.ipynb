{
  "nbformat": 4,
  "nbformat_minor": 0,
  "metadata": {
    "colab": {
      "name": "Day1_Numpy.ipynb",
      "provenance": []
    },
    "kernelspec": {
      "name": "python3",
      "display_name": "Python 3"
    }
  },
  "cells": [
    {
      "cell_type": "markdown",
      "metadata": {
        "id": "nhvnikSjXrwQ"
      },
      "source": [
        "**Numpy:**\n",
        "\n",
        "Numpy is a Python library for scientific computing that supports multi-dimensional arrays and their manipulation.\n",
        "\n",
        "\n",
        "**Why Numpy over lists?**\n",
        "\n",
        "* Lists are faster than Numpy\n",
        "\n",
        "  * Lists can store multiple data types at once, but Numpy doesn't. So every element in a numpy array need not undergo type checking.\n",
        "  * Numpy stores data in fixed type ie. 5 is stored as 00000101 (int32 type) always. Whereas storing of elements in lists require a lot of meta data like Size, Object Type, Object Value, Reference Count, this means every element takes up much more space. Thus due to the larger space, lists are slower than numpy. \n",
        "\n",
        "* Lists are scattered in memory. But numpy uses contiguous memory. \n",
        " * Allows SIMD (Single Input Multiple Data) vector processing\n",
        " * Better Cache utilization \n",
        "\n",
        "\n"
      ]
    },
    {
      "cell_type": "markdown",
      "metadata": {
        "id": "sDHwUjqMcu_3"
      },
      "source": [
        "Importing Numpy Library"
      ]
    },
    {
      "cell_type": "code",
      "metadata": {
        "id": "jlwLKtP5XGRw"
      },
      "source": [
        "import numpy as np"
      ],
      "execution_count": 3,
      "outputs": []
    },
    {
      "cell_type": "code",
      "metadata": {
        "id": "xiG1FKjfdlmK",
        "outputId": "4867c751-db02-46dc-dc07-67875b9ed794",
        "colab": {
          "base_uri": "https://localhost:8080/"
        }
      },
      "source": [
        "# Creating a Simple 1-D array\n",
        "a = np.array([1, 2, 3])\n",
        "print(a)"
      ],
      "execution_count": 4,
      "outputs": [
        {
          "output_type": "stream",
          "text": [
            "[1 2 3]\n"
          ],
          "name": "stdout"
        }
      ]
    },
    {
      "cell_type": "code",
      "metadata": {
        "id": "E0mTfaKwdrl0",
        "outputId": "f85adfc8-bd8b-41dc-e81c-05b9748074a1",
        "colab": {
          "base_uri": "https://localhost:8080/"
        }
      },
      "source": [
        "# Creating 2-D array \n",
        "a= np.array([[1.0, 2.0], [3.0, 4.0]])\n",
        "print(a)"
      ],
      "execution_count": 5,
      "outputs": [
        {
          "output_type": "stream",
          "text": [
            "[[1. 2.]\n",
            " [3. 4.]]\n"
          ],
          "name": "stdout"
        }
      ]
    },
    {
      "cell_type": "code",
      "metadata": {
        "id": "c5furnbKd8Hx",
        "outputId": "66615c74-bdcf-46d2-8389-c0209ab1371c",
        "colab": {
          "base_uri": "https://localhost:8080/"
        }
      },
      "source": [
        "print(a.ndim)"
      ],
      "execution_count": 6,
      "outputs": [
        {
          "output_type": "stream",
          "text": [
            "2\n"
          ],
          "name": "stdout"
        }
      ]
    },
    {
      "cell_type": "code",
      "metadata": {
        "id": "uRo-gxdzeCQZ",
        "outputId": "63680f13-bf68-4f3a-b21c-6c59566da0e7",
        "colab": {
          "base_uri": "https://localhost:8080/"
        }
      },
      "source": [
        "print(a.shape)"
      ],
      "execution_count": 8,
      "outputs": [
        {
          "output_type": "stream",
          "text": [
            "(2, 2)\n"
          ],
          "name": "stdout"
        }
      ]
    },
    {
      "cell_type": "code",
      "metadata": {
        "id": "c7c6GpSueE8l",
        "outputId": "846c7243-bd90-49d1-e41b-dc782d1cec44",
        "colab": {
          "base_uri": "https://localhost:8080/"
        }
      },
      "source": [
        "print(a.dtype)\n",
        "print(a.itemsize)"
      ],
      "execution_count": 12,
      "outputs": [
        {
          "output_type": "stream",
          "text": [
            "float64\n",
            "8\n"
          ],
          "name": "stdout"
        }
      ]
    },
    {
      "cell_type": "code",
      "metadata": {
        "id": "qqn6KL_HeJCA",
        "outputId": "ff780037-590d-4524-8d0c-fa40ea090ef2",
        "colab": {
          "base_uri": "https://localhost:8080/"
        }
      },
      "source": [
        "# By default int32 is used. we can assign our own datatype while creating the array\n",
        "b = np.array([1, 2, 3], dtype = \"int16\")\n",
        "print(b.dtype)\n",
        "print(b.itemsize) # Size of elements in bytes"
      ],
      "execution_count": 13,
      "outputs": [
        {
          "output_type": "stream",
          "text": [
            "int16\n",
            "2\n"
          ],
          "name": "stdout"
        }
      ]
    },
    {
      "cell_type": "code",
      "metadata": {
        "id": "Il8cSt5Kexyp",
        "outputId": "a46fb282-55a1-48ab-b68d-c6d2108852ff",
        "colab": {
          "base_uri": "https://localhost:8080/"
        }
      },
      "source": [
        "## Number of elements in array\n",
        "print(b.size)\n",
        "\n",
        "## Memory size of array \n",
        "print(b.nbytes)"
      ],
      "execution_count": 14,
      "outputs": [
        {
          "output_type": "stream",
          "text": [
            "3\n",
            "6\n"
          ],
          "name": "stdout"
        }
      ]
    },
    {
      "cell_type": "markdown",
      "metadata": {
        "id": "yhH1067Vfonk"
      },
      "source": [
        "**Manipulating Numpy array**"
      ]
    },
    {
      "cell_type": "code",
      "metadata": {
        "id": "_tyIYowVfYIW",
        "outputId": "2eff3ab9-3dd3-478d-e3f5-fd3bf3795434",
        "colab": {
          "base_uri": "https://localhost:8080/"
        }
      },
      "source": [
        "a = np.array([[1, 2, 3, 4, 5], [6, 7, 8, 9, 10], [11, 12, 13 ,14, 15]])\n",
        "print(a)\n",
        "print(a.shape)"
      ],
      "execution_count": 18,
      "outputs": [
        {
          "output_type": "stream",
          "text": [
            "[[ 1  2  3  4  5]\n",
            " [ 6  7  8  9 10]\n",
            " [11 12 13 14 15]]\n",
            "(3, 5)\n"
          ],
          "name": "stdout"
        }
      ]
    },
    {
      "cell_type": "code",
      "metadata": {
        "id": "9YKN7wNniy6Q",
        "outputId": "2d4c2f55-021c-40f7-983f-7d7cf55eb211",
        "colab": {
          "base_uri": "https://localhost:8080/",
          "height": 565
        }
      },
      "source": [
        "# Accessing a specific element. NOTE: Numpy arrays are 0-indexed\n",
        "print(a[2, 3])\n",
        "\n",
        "# Accessing a full row: \n",
        "print(a[1, :])\n",
        "\n",
        "# Accessing full column:\n",
        "print(a[:, 1])\n",
        "\n",
        "# Numpy allows negative indexing like lists\n",
        "print(a[1, -1]) # first row, last element \n",
        "\n",
        "# Accessing a range of elements\n",
        "print(a[0:2, 1:-2]) ## The closing index is not included\n",
        "\n",
        "#Accessing a range of values by steps\n",
        "print(a[: , ::2]) # accessing every 2nd element\n",
        "\n",
        "# Changing an element\n",
        "print(a[1, 2])\n",
        "a[1,2] = 3\n",
        "print(a[1, 2])\n",
        "\n",
        "# Changing values of a series of elements\n",
        "\n",
        "print(a[: , 1:3])\n",
        "a[: , 1:3] = [1, 2]\n",
        "print(a[: , 1:3])\n",
        "\n",
        "# lesser assignment than available length\n",
        "print(a[: , 1:4])\n",
        "a[: , 1:4] = [1, 2] # Throws an error due to input size mismatch\n",
        "print(a[: , 1:4])"
      ],
      "execution_count": 29,
      "outputs": [
        {
          "output_type": "stream",
          "text": [
            "14\n",
            "[ 6  1  2  9 10]\n",
            "[1 1 1]\n",
            "10\n",
            "[[1 2]\n",
            " [1 2]]\n",
            "[[ 1  2  5]\n",
            " [ 6  2 10]\n",
            " [11  2 15]]\n",
            "2\n",
            "3\n",
            "[[1 2]\n",
            " [1 3]\n",
            " [1 2]]\n",
            "[[1 2]\n",
            " [1 2]\n",
            " [1 2]]\n",
            "[[ 1  2  4]\n",
            " [ 1  2  9]\n",
            " [ 1  2 14]]\n"
          ],
          "name": "stdout"
        },
        {
          "output_type": "error",
          "ename": "ValueError",
          "evalue": "ignored",
          "traceback": [
            "\u001b[0;31m---------------------------------------------------------------------------\u001b[0m",
            "\u001b[0;31mValueError\u001b[0m                                Traceback (most recent call last)",
            "\u001b[0;32m<ipython-input-29-c5dd2d5a9132>\u001b[0m in \u001b[0;36m<module>\u001b[0;34m()\u001b[0m\n\u001b[1;32m     30\u001b[0m \u001b[0;31m# lesser assignment than available length\u001b[0m\u001b[0;34m\u001b[0m\u001b[0;34m\u001b[0m\u001b[0;34m\u001b[0m\u001b[0m\n\u001b[1;32m     31\u001b[0m \u001b[0mprint\u001b[0m\u001b[0;34m(\u001b[0m\u001b[0ma\u001b[0m\u001b[0;34m[\u001b[0m\u001b[0;34m:\u001b[0m \u001b[0;34m,\u001b[0m \u001b[0;36m1\u001b[0m\u001b[0;34m:\u001b[0m\u001b[0;36m4\u001b[0m\u001b[0;34m]\u001b[0m\u001b[0;34m)\u001b[0m\u001b[0;34m\u001b[0m\u001b[0;34m\u001b[0m\u001b[0m\n\u001b[0;32m---> 32\u001b[0;31m \u001b[0ma\u001b[0m\u001b[0;34m[\u001b[0m\u001b[0;34m:\u001b[0m \u001b[0;34m,\u001b[0m \u001b[0;36m1\u001b[0m\u001b[0;34m:\u001b[0m\u001b[0;36m4\u001b[0m\u001b[0;34m]\u001b[0m \u001b[0;34m=\u001b[0m \u001b[0;34m[\u001b[0m\u001b[0;36m1\u001b[0m\u001b[0;34m,\u001b[0m \u001b[0;36m2\u001b[0m\u001b[0;34m]\u001b[0m\u001b[0;34m\u001b[0m\u001b[0;34m\u001b[0m\u001b[0m\n\u001b[0m\u001b[1;32m     33\u001b[0m \u001b[0mprint\u001b[0m\u001b[0;34m(\u001b[0m\u001b[0ma\u001b[0m\u001b[0;34m[\u001b[0m\u001b[0;34m:\u001b[0m \u001b[0;34m,\u001b[0m \u001b[0;36m1\u001b[0m\u001b[0;34m:\u001b[0m\u001b[0;36m4\u001b[0m\u001b[0;34m]\u001b[0m\u001b[0;34m)\u001b[0m\u001b[0;34m\u001b[0m\u001b[0;34m\u001b[0m\u001b[0m\n",
            "\u001b[0;31mValueError\u001b[0m: could not broadcast input array from shape (2) into shape (3,3)"
          ]
        }
      ]
    },
    {
      "cell_type": "markdown",
      "metadata": {
        "id": "4-DxQJokmOji"
      },
      "source": [
        "3-D array example "
      ]
    },
    {
      "cell_type": "code",
      "metadata": {
        "id": "4ChST-1wjLex",
        "outputId": "00d147c3-cdee-4659-a6ef-8f98bd706eb9",
        "colab": {
          "base_uri": "https://localhost:8080/"
        }
      },
      "source": [
        "b = np.array([[[1, 2], [3, 4]], [[4, 5], [6, 7]]])\n",
        "print(b.ndim)\n",
        "\n",
        "# accessing elements works outside in. \n",
        "\n",
        "b[1, : , 1] = [11, 12]\n",
        "print(b)"
      ],
      "execution_count": 34,
      "outputs": [
        {
          "output_type": "stream",
          "text": [
            "3\n",
            "[[[ 1  2]\n",
            "  [ 3  4]]\n",
            "\n",
            " [[ 4 11]\n",
            "  [ 6 12]]]\n"
          ],
          "name": "stdout"
        }
      ]
    },
    {
      "cell_type": "markdown",
      "metadata": {
        "id": "3X8cdviW0npg"
      },
      "source": [
        "**Initializing different types of arrays**"
      ]
    },
    {
      "cell_type": "code",
      "metadata": {
        "id": "XJHsG09DmdPZ",
        "outputId": "e4c65051-3c31-43e2-fe9f-691f93de5b67",
        "colab": {
          "base_uri": "https://localhost:8080/"
        }
      },
      "source": [
        "# all zeros\n",
        "np.zeros((10))\n",
        "np.zeros((3, 2, 2), dtype = 'int32')"
      ],
      "execution_count": 39,
      "outputs": [
        {
          "output_type": "execute_result",
          "data": {
            "text/plain": [
              "array([[[0, 0],\n",
              "        [0, 0]],\n",
              "\n",
              "       [[0, 0],\n",
              "        [0, 0]],\n",
              "\n",
              "       [[0, 0],\n",
              "        [0, 0]]], dtype=int32)"
            ]
          },
          "metadata": {
            "tags": []
          },
          "execution_count": 39
        }
      ]
    },
    {
      "cell_type": "code",
      "metadata": {
        "id": "RxOLartW0ui5",
        "outputId": "47d0cdf2-ff8c-424c-a3bc-ef03c5e4f393",
        "colab": {
          "base_uri": "https://localhost:8080/"
        }
      },
      "source": [
        "# all ones\n",
        "np.ones((2, 2, 2, 3 ), dtype=\"int16\")"
      ],
      "execution_count": 41,
      "outputs": [
        {
          "output_type": "execute_result",
          "data": {
            "text/plain": [
              "array([[[[1, 1, 1],\n",
              "         [1, 1, 1]],\n",
              "\n",
              "        [[1, 1, 1],\n",
              "         [1, 1, 1]]],\n",
              "\n",
              "\n",
              "       [[[1, 1, 1],\n",
              "         [1, 1, 1]],\n",
              "\n",
              "        [[1, 1, 1],\n",
              "         [1, 1, 1]]]], dtype=int16)"
            ]
          },
          "metadata": {
            "tags": []
          },
          "execution_count": 41
        }
      ]
    },
    {
      "cell_type": "code",
      "metadata": {
        "id": "fj5X3NR11DXd",
        "outputId": "5cba80ee-5ec6-45e9-bf82-1737d2956a56",
        "colab": {
          "base_uri": "https://localhost:8080/"
        }
      },
      "source": [
        "# All elements of a particular number \n",
        "np.full((5,5), 10)\n",
        "np.full(a.shape, 11)"
      ],
      "execution_count": 45,
      "outputs": [
        {
          "output_type": "execute_result",
          "data": {
            "text/plain": [
              "array([[11, 11, 11, 11, 11],\n",
              "       [11, 11, 11, 11, 11],\n",
              "       [11, 11, 11, 11, 11]])"
            ]
          },
          "metadata": {
            "tags": []
          },
          "execution_count": 45
        }
      ]
    },
    {
      "cell_type": "code",
      "metadata": {
        "id": "gmTGsJaC1UAy",
        "outputId": "cd4067ab-f327-4652-cd6b-371aa957d9d9",
        "colab": {
          "base_uri": "https://localhost:8080/"
        }
      },
      "source": [
        "## similar to full, full_like\n",
        "np.full_like(a, 12) # copies the shape of the existing matrix with the values given by the user"
      ],
      "execution_count": 46,
      "outputs": [
        {
          "output_type": "execute_result",
          "data": {
            "text/plain": [
              "array([[12, 12, 12, 12, 12],\n",
              "       [12, 12, 12, 12, 12],\n",
              "       [12, 12, 12, 12, 12]])"
            ]
          },
          "metadata": {
            "tags": []
          },
          "execution_count": 46
        }
      ]
    },
    {
      "cell_type": "code",
      "metadata": {
        "id": "LdjJF4gm1kH3",
        "outputId": "940843b7-8cda-43b5-d880-0d8db4adabc3",
        "colab": {
          "base_uri": "https://localhost:8080/"
        }
      },
      "source": [
        "## Creating a random decimal array \n",
        "np.random.rand(2,2,2)"
      ],
      "execution_count": 48,
      "outputs": [
        {
          "output_type": "execute_result",
          "data": {
            "text/plain": [
              "array([[[0.09851074, 0.16445346],\n",
              "        [0.79898931, 0.48765163]],\n",
              "\n",
              "       [[0.50968848, 0.4890359 ],\n",
              "        [0.88120974, 0.20051059]]])"
            ]
          },
          "metadata": {
            "tags": []
          },
          "execution_count": 48
        }
      ]
    },
    {
      "cell_type": "code",
      "metadata": {
        "id": "XiVAlhvm14Pu",
        "outputId": "81a79496-90d9-42cd-99e9-2f0052831aca",
        "colab": {
          "base_uri": "https://localhost:8080/"
        }
      },
      "source": [
        "### creating a random integer array \n",
        "np.random.randint(2, 15, size = (2, 2, 2))"
      ],
      "execution_count": 51,
      "outputs": [
        {
          "output_type": "execute_result",
          "data": {
            "text/plain": [
              "array([[[ 8, 14],\n",
              "        [ 3, 13]],\n",
              "\n",
              "       [[ 6,  5],\n",
              "        [ 3, 12]]])"
            ]
          },
          "metadata": {
            "tags": []
          },
          "execution_count": 51
        }
      ]
    },
    {
      "cell_type": "code",
      "metadata": {
        "id": "v4-dQRq62ICJ",
        "outputId": "a989a3e4-6b0d-4355-9d24-4d2ae882d6fc",
        "colab": {
          "base_uri": "https://localhost:8080/"
        }
      },
      "source": [
        "## Creating an identity matrix \n",
        "np.identity(5) # The identity matrix by nature is square shaped"
      ],
      "execution_count": 52,
      "outputs": [
        {
          "output_type": "execute_result",
          "data": {
            "text/plain": [
              "array([[1., 0., 0., 0., 0.],\n",
              "       [0., 1., 0., 0., 0.],\n",
              "       [0., 0., 1., 0., 0.],\n",
              "       [0., 0., 0., 1., 0.],\n",
              "       [0., 0., 0., 0., 1.]])"
            ]
          },
          "metadata": {
            "tags": []
          },
          "execution_count": 52
        }
      ]
    },
    {
      "cell_type": "code",
      "metadata": {
        "id": "Ar_jtDur2RWP",
        "outputId": "3b8944c8-715d-45a5-98d0-561a9f7a2b6b",
        "colab": {
          "base_uri": "https://localhost:8080/"
        }
      },
      "source": [
        "### Repeating an array \n",
        "a = np.array([[1, 2, 3]])\n",
        "output = np.repeat(a, 3, axis=0) #axis = 0, represents rows and axis = 1 represents columns \n",
        "print(output)"
      ],
      "execution_count": 81,
      "outputs": [
        {
          "output_type": "stream",
          "text": [
            "[[1 2 3]\n",
            " [1 2 3]\n",
            " [1 2 3]]\n"
          ],
          "name": "stdout"
        }
      ]
    },
    {
      "cell_type": "markdown",
      "metadata": {
        "id": "vBz4Cckc31Jn"
      },
      "source": [
        "**Exercise 1** \n",
        "\n",
        "1 1 1 1 1\n",
        "\n",
        "1 0 0 0 1\n",
        "\n",
        "1 0 9 0 1\n",
        "\n",
        "1 0 0 0 1\n",
        "\n",
        "1 1 1 1 1\n",
        "\n",
        "Create the above array using numpy (not mannualy)"
      ]
    },
    {
      "cell_type": "code",
      "metadata": {
        "id": "oQYMHRCS2aL9",
        "outputId": "9138870b-bfbe-4892-b511-24dec96f3e2a",
        "colab": {
          "base_uri": "https://localhost:8080/"
        }
      },
      "source": [
        "matrix = np.ones((5, 5), dtype = \"int32\")\n",
        "sub_matrix = np.zeros((3, 3), dtype = \"int32\")\n",
        "matrix[1:4, 1:4] = sub_matrix\n",
        "\n",
        "matrix[2, 2]=9\n",
        "\n",
        "print(matrix)"
      ],
      "execution_count": 63,
      "outputs": [
        {
          "output_type": "stream",
          "text": [
            "[[1 1 1 1 1]\n",
            " [1 0 0 0 1]\n",
            " [1 0 9 0 1]\n",
            " [1 0 0 0 1]\n",
            " [1 1 1 1 1]]\n"
          ],
          "name": "stdout"
        }
      ]
    },
    {
      "cell_type": "markdown",
      "metadata": {
        "id": "RRqGzves6BIx"
      },
      "source": [
        "Making a new copy of an array (Careful)"
      ]
    },
    {
      "cell_type": "code",
      "metadata": {
        "id": "W8oQ60-b5Oib",
        "outputId": "decbe0c5-11c1-49a3-d81c-fcebcee7cf8f",
        "colab": {
          "base_uri": "https://localhost:8080/"
        }
      },
      "source": [
        "a = np.array([1, 2, 3])\n",
        "b = a\n",
        "b[1] = 100\n",
        "print(a[1])\n",
        "\n",
        "## When we do b=a, we are just making b point to the adress of a. we didn't make a new copy.\n",
        "\n",
        "## To make a new cophy of array use a.copy()\n",
        "a = np.array([1, 2, 3])\n",
        "b = a.copy()\n",
        "b[1] = 100\n",
        "print(a[1])"
      ],
      "execution_count": 66,
      "outputs": [
        {
          "output_type": "stream",
          "text": [
            "100\n",
            "2\n"
          ],
          "name": "stdout"
        }
      ]
    },
    {
      "cell_type": "markdown",
      "metadata": {
        "id": "6cAGRY__9JDm"
      },
      "source": [
        "**Element wise operations**\n"
      ]
    },
    {
      "cell_type": "code",
      "metadata": {
        "id": "ZuzHvqQz6JAU",
        "outputId": "fc7a411b-5f67-431c-c1a9-2891be2aad48",
        "colab": {
          "base_uri": "https://localhost:8080/"
        }
      },
      "source": [
        "a = np.array([1, 2, 3, 4])\n",
        "print(a+1)\n",
        "print(a-1)\n",
        "print(a/1)\n",
        "print(a*2)\n",
        "print(a**2)\n",
        "print(a**3)\n",
        "print(a%2)\n",
        "print(np.sin(a))\n",
        "print(np.cos(a))\n",
        "print(np.tan(a))\n",
        "\n",
        "\n",
        "b= np.array([1,2,3,4])\n",
        "print(a*b)"
      ],
      "execution_count": 74,
      "outputs": [
        {
          "output_type": "stream",
          "text": [
            "[2 3 4 5]\n",
            "[0 1 2 3]\n",
            "[1. 2. 3. 4.]\n",
            "[2 4 6 8]\n",
            "[ 1  4  9 16]\n",
            "[ 1  8 27 64]\n",
            "[1 0 1 0]\n",
            "[ 0.84147098  0.90929743  0.14112001 -0.7568025 ]\n",
            "[ 0.54030231 -0.41614684 -0.9899925  -0.65364362]\n",
            "[ 1.55740772 -2.18503986 -0.14254654  1.15782128]\n",
            "[ 1  4  9 16]\n"
          ],
          "name": "stdout"
        }
      ]
    },
    {
      "cell_type": "markdown",
      "metadata": {
        "id": "GcGgD0srV6rQ"
      },
      "source": [
        "**Matrix calculations**"
      ]
    },
    {
      "cell_type": "code",
      "metadata": {
        "id": "IMja3hug9dPt",
        "outputId": "a2dd1dc9-08b0-4fbe-d023-e351ed7ccb32",
        "colab": {
          "base_uri": "https://localhost:8080/"
        }
      },
      "source": [
        "a = np.array([[1,2, 3], [1, 2, 3]])\n",
        "b = np.ones((3,3))\n",
        "print(np.matmul(a, b)) # Matrix multiplication\n",
        "\n",
        "print(np.linalg.det(b)) # matrix determinant calculation"
      ],
      "execution_count": 85,
      "outputs": [
        {
          "output_type": "stream",
          "text": [
            "[[6. 6. 6.]\n",
            " [6. 6. 6.]]\n",
            "0.0\n"
          ],
          "name": "stdout"
        }
      ]
    },
    {
      "cell_type": "markdown",
      "metadata": {
        "id": "Qc7lNAsSXA8s"
      },
      "source": [
        "**Statistics Functions**"
      ]
    },
    {
      "cell_type": "code",
      "metadata": {
        "id": "aMIez6fbXF_Z",
        "outputId": "2c9bbe5f-3e4a-4787-e839-55ecaa43c530",
        "colab": {
          "base_uri": "https://localhost:8080/"
        }
      },
      "source": [
        "a = np.array([[1, 2, 3, 4], [5, 6, 7, 8], [9, 10, 11, 12]])\n",
        "\n",
        "print(np.min(a))\n",
        "print(np.max(a))\n",
        "print(np.sum(a))\n",
        "print(np.max(a, axis = 0))\n",
        "print(np.max(a, axis = 1))\n",
        "\n",
        "print(a.shape)\n",
        "b= a.reshape((4,3)) # reshape is not inplace, we have to explicitly store it into a new result array \n",
        "print(b)"
      ],
      "execution_count": 90,
      "outputs": [
        {
          "output_type": "stream",
          "text": [
            "1\n",
            "12\n",
            "78\n",
            "[ 9 10 11 12]\n",
            "[ 4  8 12]\n",
            "(3, 4)\n",
            "[[ 1  2  3]\n",
            " [ 4  5  6]\n",
            " [ 7  8  9]\n",
            " [10 11 12]]\n"
          ],
          "name": "stdout"
        }
      ]
    },
    {
      "cell_type": "markdown",
      "metadata": {
        "id": "alivbirTWkDg"
      },
      "source": [
        "**Horizontal and Vertical Stacking**"
      ]
    },
    {
      "cell_type": "code",
      "metadata": {
        "id": "2II6-64UWSUr",
        "outputId": "3670ba75-d3c5-4eb2-e46f-9e5c17fedf58",
        "colab": {
          "base_uri": "https://localhost:8080/"
        }
      },
      "source": [
        "a = np.array([1, 2, 3])\n",
        "b = np.array([4, 5, 6])\n",
        "\n",
        "print(np.vstack([a,b, a, b, a])) # The arrangement of arrays inside the stack must always be passed as a list\n",
        "\n",
        "print(np.hstack([a,b,a]))"
      ],
      "execution_count": 94,
      "outputs": [
        {
          "output_type": "stream",
          "text": [
            "[[1 2 3]\n",
            " [4 5 6]\n",
            " [1 2 3]\n",
            " [4 5 6]\n",
            " [1 2 3]]\n",
            "[1 2 3 4 5 6 1 2 3]\n"
          ],
          "name": "stdout"
        }
      ]
    },
    {
      "cell_type": "markdown",
      "metadata": {
        "id": "15S9wdhPYe0n"
      },
      "source": [
        "**Load Data From File**"
      ]
    },
    {
      "cell_type": "code",
      "metadata": {
        "id": "6GhD6CPxWxjU",
        "outputId": "e3669a31-d5fa-4382-a96f-b5430b6c7c0c",
        "colab": {
          "base_uri": "https://localhost:8080/"
        }
      },
      "source": [
        "data = np.genfromtxt('Sample_Data.txt', delimiter=\",\")\n",
        "print(data)\n",
        "print(data.dtype)\n",
        "data = data.astype('int32')\n",
        "print(data.dtype)"
      ],
      "execution_count": 98,
      "outputs": [
        {
          "output_type": "stream",
          "text": [
            "[[ 1.  2.  3.  4.  5.]\n",
            " [ 6.  7.  8.  9. 10.]]\n",
            "float64\n",
            "int32\n"
          ],
          "name": "stdout"
        }
      ]
    },
    {
      "cell_type": "markdown",
      "metadata": {
        "id": "njoJYhqjZt8u"
      },
      "source": [
        "**Boolean Masking and Advanced indexing**"
      ]
    },
    {
      "cell_type": "code",
      "metadata": {
        "id": "JAwQ1W2XZYle",
        "outputId": "bc1ddba9-de28-4a5b-d7a6-6be288a72153",
        "colab": {
          "base_uri": "https://localhost:8080/"
        }
      },
      "source": [
        "print(data > 5)\n",
        "print((data % 2 ==0) & (data > 5))\n",
        "print(data[(data % 2 ==0) & (data > 5)])"
      ],
      "execution_count": 103,
      "outputs": [
        {
          "output_type": "stream",
          "text": [
            "[[False False False False False]\n",
            " [ True  True  True  True  True]]\n",
            "[[False False False False False]\n",
            " [ True False  True False  True]]\n",
            "[ 6  8 10]\n"
          ],
          "name": "stdout"
        }
      ]
    },
    {
      "cell_type": "code",
      "metadata": {
        "id": "h10w34HAZzt4"
      },
      "source": [
        ""
      ],
      "execution_count": null,
      "outputs": []
    }
  ]
}