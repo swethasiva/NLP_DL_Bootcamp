{
 "cells": [
  {
   "cell_type": "markdown",
   "metadata": {
    "colab_type": "text",
    "id": "iQjHqsmTAVLU"
   },
   "source": [
    "## Exercise 3\n",
    "In the videos you looked at how you would improve Fashion MNIST using Convolutions. For your exercise see if you can improve MNIST to 99.8% accuracy or more using only a single convolutional layer and a single MaxPooling 2D. You should stop training once the accuracy goes above this amount. It should happen in less than 20 epochs, so it's ok to hard code the number of epochs for training, but your training must end once it hits the above metric. If it doesn't, then you'll need to redesign your layers.\n",
    "\n",
    "I've started the code for you -- you need to finish it!\n",
    "\n",
    "When 99.8% accuracy has been hit, you should print out the string \"Reached 99.8% accuracy so cancelling training!\"\n"
   ]
  },
  {
   "cell_type": "code",
   "execution_count": 2,
   "metadata": {},
   "outputs": [],
   "source": [
    "import tensorflow as tf\n",
    "from os import path, getcwd, chdir\n",
    "\n",
    "# DO NOT CHANGE THE LINE BELOW. If you are developing in a local\n",
    "# environment, then grab mnist.npz from the Coursera Jupyter Notebook\n",
    "# and place it inside a local folder and edit the path to that location\n",
    "path = f\"{getcwd()}/../tmp2/mnist.npz\""
   ]
  },
  {
   "cell_type": "code",
   "execution_count": 3,
   "metadata": {},
   "outputs": [],
   "source": [
    "config = tf.ConfigProto()\n",
    "config.gpu_options.allow_growth = True\n",
    "sess = tf.Session(config=config)"
   ]
  },
  {
   "cell_type": "code",
   "execution_count": 20,
   "metadata": {},
   "outputs": [],
   "source": [
    "# GRADED FUNCTION: train_mnist_conv\n",
    "def train_mnist_conv():\n",
    "    # Please write your code only where you are indicated.\n",
    "    # please do not remove model fitting inline comments.\n",
    "\n",
    "    # YOUR CODE STARTS HERE\n",
    "    class trainingCallback(tf.keras.callbacks.Callback):\n",
    "        def on_epoch_end(self, epoch, logs={}):\n",
    "            if(logs.get('acc')>0.998):\n",
    "                print(\"\\n Reached 99.8% accuracy so cancelling training!\")\n",
    "                self.model.stop_training = True\n",
    "                \n",
    "    \n",
    "    # YOUR CODE ENDS HERE\n",
    "\n",
    "    mnist = tf.keras.datasets.mnist\n",
    "    (training_images, training_labels), (test_images, test_labels) = mnist.load_data(path=path)\n",
    "    # YOUR CODE STARTS HERE\n",
    "    training_images, test_images = training_images/255.0, test_images/255.0\n",
    "    print(training_images.shape)\n",
    "    training_images, test_images = training_images.reshape(60000, 28, 28, 1), test_images.reshape(10000, 28, 28, 1)\n",
    "    myCallback = trainingCallback()\n",
    "    # YOUR CODE ENDS HERE\n",
    "\n",
    "    model = tf.keras.models.Sequential([\n",
    "        tf.keras.layers.Conv2D(32, (3, 3), input_shape=(28, 28, 1), activation='relu'), \n",
    "        tf.keras.layers.MaxPooling2D(2, 2), \n",
    "        tf.keras.layers.Conv2D(64, (3, 3), activation='relu'), \n",
    "        tf.keras.layers.MaxPooling2D(2, 2), \n",
    "        tf.keras.layers.Flatten(), \n",
    "        tf.keras.layers.Dense(units=128, activation='relu'), \n",
    "        tf.keras.layers.Dense(units=10, activation='softmax')\n",
    "    ])\n",
    "\n",
    "    model.compile(optimizer='adam', loss='sparse_categorical_crossentropy', metrics=['accuracy'])\n",
    "    # model fitting\n",
    "    history = model.fit(training_images, training_labels, epochs=20, callbacks=[myCallback])\n",
    "    # model fitting\n",
    "    return history.epoch, history.history['acc'][-1]\n",
    "\n"
   ]
  },
  {
   "cell_type": "code",
   "execution_count": 21,
   "metadata": {},
   "outputs": [
    {
     "name": "stdout",
     "output_type": "stream",
     "text": [
      "(60000, 28, 28)\n",
      "Epoch 1/20\n",
      "60000/60000 [==============================] - 14s 235us/sample - loss: 0.1275 - acc: 0.9618\n",
      "Epoch 2/20\n",
      "60000/60000 [==============================] - 13s 218us/sample - loss: 0.0437 - acc: 0.9861\n",
      "Epoch 3/20\n",
      "60000/60000 [==============================] - 13s 210us/sample - loss: 0.0299 - acc: 0.9908 - loss: 0.0294 - acc:\n",
      "Epoch 4/20\n",
      "60000/60000 [==============================] - 13s 212us/sample - loss: 0.0206 - acc: 0.9933\n",
      "Epoch 5/20\n",
      "60000/60000 [==============================] - 12s 207us/sample - loss: 0.0165 - acc: 0.9945\n",
      "Epoch 6/20\n",
      "60000/60000 [==============================] - 13s 218us/sample - loss: 0.0116 - acc: 0.9959\n",
      "Epoch 7/20\n",
      "60000/60000 [==============================] - 13s 218us/sample - loss: 0.0105 - acc: 0.9963\n",
      "Epoch 8/20\n",
      "60000/60000 [==============================] - 13s 215us/sample - loss: 0.0073 - acc: 0.9976\n",
      "Epoch 9/20\n",
      "60000/60000 [==============================] - 13s 215us/sample - loss: 0.0068 - acc: 0.9979\n",
      "Epoch 10/20\n",
      "60000/60000 [==============================] - 13s 218us/sample - loss: 0.0063 - acc: 0.9976\n",
      "Epoch 11/20\n",
      "59616/60000 [============================>.] - ETA: 0s - loss: 0.0049 - acc: 0.9985\n",
      " Reached 99.8% accuracy so cancelling training!\n",
      "60000/60000 [==============================] - 13s 218us/sample - loss: 0.0049 - acc: 0.9985\n"
     ]
    }
   ],
   "source": [
    "_, _ = train_mnist_conv()"
   ]
  },
  {
   "cell_type": "code",
   "execution_count": 22,
   "metadata": {},
   "outputs": [],
   "source": [
    "# Now click the 'Submit Assignment' button above.\n",
    "# Once that is complete, please run the following two cells to save your work and close the notebook"
   ]
  },
  {
   "cell_type": "code",
   "execution_count": null,
   "metadata": {},
   "outputs": [],
   "source": [
    "%%javascript\n",
    "<!-- Save the notebook -->\n",
    "IPython.notebook.save_checkpoint();"
   ]
  },
  {
   "cell_type": "code",
   "execution_count": null,
   "metadata": {},
   "outputs": [],
   "source": [
    "%%javascript\n",
    "IPython.notebook.session.delete();\n",
    "window.onbeforeunload = null\n",
    "setTimeout(function() { window.close(); }, 1000);"
   ]
  }
 ],
 "metadata": {
  "coursera": {
   "course_slug": "introduction-tensorflow",
   "graded_item_id": "ml06H",
   "launcher_item_id": "hQF8A"
  },
  "kernelspec": {
   "display_name": "Python 3",
   "language": "python",
   "name": "python3"
  },
  "language_info": {
   "codemirror_mode": {
    "name": "ipython",
    "version": 3
   },
   "file_extension": ".py",
   "mimetype": "text/x-python",
   "name": "python",
   "nbconvert_exporter": "python",
   "pygments_lexer": "ipython3",
   "version": "3.6.8"
  }
 },
 "nbformat": 4,
 "nbformat_minor": 1
}
